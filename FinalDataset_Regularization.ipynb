{
 "cells": [
  {
   "cell_type": "code",
   "execution_count": 2,
   "metadata": {},
   "outputs": [],
   "source": [
    "#import modules we need to use for this session\n",
    "import pandas as pd\n",
    "import numpy as np\n",
    "%matplotlib inline\n",
    "import matplotlib.pyplot as plt\n",
    "from scipy import stats\n",
    "import statsmodels.formula.api as smf\n",
    "import statsmodels.api as sm\n",
    "from sklearn.linear_model import LinearRegression\n",
    "# PCA module\n",
    "from sklearn.decomposition import PCA\n",
    "#from sklearn.cross_validation import train_test_split\n",
    "from sklearn.model_selection import train_test_split\n",
    "from mpl_toolkits.mplot3d import Axes3D\n",
    "from sklearn import datasets\n",
    "from sklearn import linear_model\n",
    "from sklearn import preprocessing\n",
    "from sklearn.metrics import r2_score\n",
    "from sklearn.impute import SimpleImputer"
   ]
  },
  {
   "cell_type": "code",
   "execution_count": 3,
   "metadata": {},
   "outputs": [],
   "source": [
    "import swifter"
   ]
  },
  {
   "cell_type": "code",
   "execution_count": 4,
   "metadata": {},
   "outputs": [],
   "source": [
    "X_train = np.load('X_train.npy')\n",
    "y_train = np.load('y_train.npy')\n",
    "\n",
    "X_test = np.load('X_test.npy')\n",
    "y_test = np.load('y_test.npy')"
   ]
  },
  {
   "cell_type": "code",
   "execution_count": 5,
   "metadata": {},
   "outputs": [
    {
     "data": {
      "text/plain": [
       "(1347450,)"
      ]
     },
     "execution_count": 5,
     "metadata": {},
     "output_type": "execute_result"
    }
   ],
   "source": [
    "y_test.shape"
   ]
  },
  {
   "cell_type": "code",
   "execution_count": 6,
   "metadata": {},
   "outputs": [],
   "source": [
    "training_data = pd.DataFrame(np.concatenate((y_train.reshape(len(y_train),1),X_train),axis=1))\n",
    "training_data.columns=[\"y\"]+[\"x{}\".format(i) for i in range(1,18)]\n",
    "\n",
    "test_data = pd.DataFrame(np.concatenate((y_test.reshape(len(y_test),1),X_test),axis=1))\n",
    "test_data.columns=[\"y\"]+[\"x{}\".format(i) for i in range(1,18)]"
   ]
  },
  {
   "cell_type": "code",
   "execution_count": 7,
   "metadata": {},
   "outputs": [
    {
     "data": {
      "text/plain": [
       "Index(['y', 'x1', 'x2', 'x3', 'x4', 'x5', 'x6', 'x7', 'x8', 'x9', 'x10', 'x11',\n",
       "       'x12', 'x13', 'x14', 'x15', 'x16', 'x17'],\n",
       "      dtype='object')"
      ]
     },
     "execution_count": 7,
     "metadata": {},
     "output_type": "execute_result"
    }
   ],
   "source": [
    "training_data.columns\n",
    "\n",
    "test_data.columns"
   ]
  },
  {
   "cell_type": "code",
   "execution_count": 8,
   "metadata": {},
   "outputs": [
    {
     "name": "stdout",
     "output_type": "stream",
     "text": [
      "                            OLS Regression Results                            \n",
      "==============================================================================\n",
      "Dep. Variable:                      y   R-squared:                       0.072\n",
      "Model:                            OLS   Adj. R-squared:                  0.072\n",
      "Method:                 Least Squares   F-statistic:                 2.443e+04\n",
      "Date:                Sun, 15 Dec 2019   Prob (F-statistic):               0.00\n",
      "Time:                        14:49:04   Log-Likelihood:            -8.7642e+07\n",
      "No. Observations:             5389800   AIC:                         1.753e+08\n",
      "Df Residuals:                 5389782   BIC:                         1.753e+08\n",
      "Df Model:                          17                                         \n",
      "Covariance Type:            nonrobust                                         \n",
      "==============================================================================\n",
      "                 coef    std err          t      P>|t|      [0.025      0.975]\n",
      "------------------------------------------------------------------------------\n",
      "Intercept  -5.137e+05   6172.658    -83.230      0.000   -5.26e+05   -5.02e+05\n",
      "x1         -1.008e+04    123.269    -81.734      0.000   -1.03e+04   -9833.687\n",
      "x2          1.362e+04    849.774     16.030      0.000     1.2e+04    1.53e+04\n",
      "x3          7161.6197     34.077    210.158      0.000    7094.830    7228.410\n",
      "x4          1.119e+04     41.364    270.511      0.000    1.11e+04    1.13e+04\n",
      "x5           213.9585    174.490      1.226      0.220    -128.035     555.952\n",
      "x6          8875.1257     49.704    178.558      0.000    8777.707    8972.545\n",
      "x7          4393.4527     42.210    104.087      0.000    4310.724    4476.182\n",
      "x8          3615.7241   1284.417      2.815      0.005    1098.312    6133.136\n",
      "x9          -158.1622    358.857     -0.441      0.659    -861.510     545.186\n",
      "x10        -9.897e+04   1200.425    -82.446      0.000   -1.01e+05   -9.66e+04\n",
      "x11         5912.7854   2689.787      2.198      0.028     640.899    1.12e+04\n",
      "x12        -3.786e+05   4879.886    -77.583      0.000   -3.88e+05   -3.69e+05\n",
      "x13        -8.759e+04   5228.746    -16.752      0.000   -9.78e+04   -7.73e+04\n",
      "x14        -1.019e+05   5896.866    -17.284      0.000   -1.13e+05   -9.04e+04\n",
      "x15           -7.6943      9.076     -0.848      0.397     -25.483      10.094\n",
      "x16         1.216e+05   6567.004     18.516      0.000    1.09e+05    1.34e+05\n",
      "x17          -11.5219      0.672    -17.133      0.000     -12.840     -10.204\n",
      "===============================================================================\n",
      "Omnibus:                 22093500.410   Durbin-Watson:                    2.000\n",
      "Prob(Omnibus):                  0.000   Jarque-Bera (JB):   390373599891230.188\n",
      "Skew:                         109.484   Prob(JB):                          0.00\n",
      "Kurtosis:                   41695.077   Cond. No.                      2.46e+04\n",
      "===============================================================================\n",
      "\n",
      "Warnings:\n",
      "[1] Standard Errors assume that the covariance matrix of the errors is correctly specified.\n",
      "[2] The condition number is large, 2.46e+04. This might indicate that there are\n",
      "strong multicollinearity or other numerical problems.\n"
     ]
    }
   ],
   "source": [
    "#create a formulae for multi-variate regression using list comprehension\n",
    "formula='y~x1+'+'+'.join(['x%d'%p for p in range(1,18)]); formula\n",
    "\n",
    "lm12 = smf.ols(formula=formula, data = training_data).fit()\n",
    "print(lm12.summary())"
   ]
  },
  {
   "cell_type": "code",
   "execution_count": 9,
   "metadata": {},
   "outputs": [],
   "source": [
    "Regressors = ['x1', 'x2', 'x3', 'x4', 'x5', 'x6', 'x7', 'x8', 'x9', 'x10', 'x11','x12', 'x13', 'x14', 'x15', 'x16', 'x17']"
   ]
  },
  {
   "cell_type": "code",
   "execution_count": 10,
   "metadata": {},
   "outputs": [],
   "source": [
    "mu = training_data[Regressors].mean()\n",
    "sigma = training_data[Regressors].std()"
   ]
  },
  {
   "cell_type": "code",
   "execution_count": 11,
   "metadata": {},
   "outputs": [],
   "source": [
    "training_data[Regressors] = (training_data[Regressors]-mu)/sigma"
   ]
  },
  {
   "cell_type": "code",
   "execution_count": 12,
   "metadata": {},
   "outputs": [],
   "source": [
    "test_data[Regressors] = (test_data[Regressors]-mu)/sigma"
   ]
  },
  {
   "cell_type": "code",
   "execution_count": 13,
   "metadata": {},
   "outputs": [],
   "source": [
    "training_data = training_data.fillna(0)\n",
    "test_data = test_data.fillna(0)"
   ]
  },
  {
   "cell_type": "code",
   "execution_count": 14,
   "metadata": {},
   "outputs": [
    {
     "data": {
      "text/html": [
       "<div>\n",
       "<style scoped>\n",
       "    .dataframe tbody tr th:only-of-type {\n",
       "        vertical-align: middle;\n",
       "    }\n",
       "\n",
       "    .dataframe tbody tr th {\n",
       "        vertical-align: top;\n",
       "    }\n",
       "\n",
       "    .dataframe thead th {\n",
       "        text-align: right;\n",
       "    }\n",
       "</style>\n",
       "<table border=\"1\" class=\"dataframe\">\n",
       "  <thead>\n",
       "    <tr style=\"text-align: right;\">\n",
       "      <th></th>\n",
       "      <th>y</th>\n",
       "      <th>x1</th>\n",
       "      <th>x2</th>\n",
       "      <th>x3</th>\n",
       "      <th>x4</th>\n",
       "      <th>x5</th>\n",
       "      <th>x6</th>\n",
       "      <th>x7</th>\n",
       "      <th>x8</th>\n",
       "      <th>x9</th>\n",
       "      <th>x10</th>\n",
       "      <th>x11</th>\n",
       "      <th>x12</th>\n",
       "      <th>x13</th>\n",
       "      <th>x14</th>\n",
       "      <th>x15</th>\n",
       "      <th>x16</th>\n",
       "      <th>x17</th>\n",
       "    </tr>\n",
       "  </thead>\n",
       "  <tbody>\n",
       "    <tr>\n",
       "      <th>0</th>\n",
       "      <td>299188.0</td>\n",
       "      <td>1.447100</td>\n",
       "      <td>-0.142221</td>\n",
       "      <td>0.209442</td>\n",
       "      <td>0.161014</td>\n",
       "      <td>-0.358568</td>\n",
       "      <td>-0.081675</td>\n",
       "      <td>-0.332446</td>\n",
       "      <td>1.800014</td>\n",
       "      <td>3.085913</td>\n",
       "      <td>3.931607</td>\n",
       "      <td>0.239048</td>\n",
       "      <td>0.440879</td>\n",
       "      <td>1.821032</td>\n",
       "      <td>0.036566</td>\n",
       "      <td>-0.132415</td>\n",
       "      <td>0.016888</td>\n",
       "      <td>-1.234511</td>\n",
       "    </tr>\n",
       "    <tr>\n",
       "      <th>1</th>\n",
       "      <td>456000.0</td>\n",
       "      <td>-0.766191</td>\n",
       "      <td>-0.628944</td>\n",
       "      <td>-0.368441</td>\n",
       "      <td>0.100842</td>\n",
       "      <td>-0.358568</td>\n",
       "      <td>-0.364647</td>\n",
       "      <td>-0.380070</td>\n",
       "      <td>0.932093</td>\n",
       "      <td>-0.513565</td>\n",
       "      <td>0.204022</td>\n",
       "      <td>1.357014</td>\n",
       "      <td>-0.454962</td>\n",
       "      <td>-0.240147</td>\n",
       "      <td>0.011539</td>\n",
       "      <td>-0.487966</td>\n",
       "      <td>-0.157572</td>\n",
       "      <td>-0.992466</td>\n",
       "    </tr>\n",
       "    <tr>\n",
       "      <th>2</th>\n",
       "      <td>222000.0</td>\n",
       "      <td>-0.558695</td>\n",
       "      <td>-0.628944</td>\n",
       "      <td>-0.110330</td>\n",
       "      <td>-0.048326</td>\n",
       "      <td>-0.358568</td>\n",
       "      <td>-0.236379</td>\n",
       "      <td>-0.520641</td>\n",
       "      <td>1.800014</td>\n",
       "      <td>3.112904</td>\n",
       "      <td>4.075099</td>\n",
       "      <td>-0.081981</td>\n",
       "      <td>-0.269317</td>\n",
       "      <td>1.476334</td>\n",
       "      <td>-0.232143</td>\n",
       "      <td>-0.132415</td>\n",
       "      <td>0.016888</td>\n",
       "      <td>-1.234511</td>\n",
       "    </tr>\n",
       "    <tr>\n",
       "      <th>3</th>\n",
       "      <td>716000.0</td>\n",
       "      <td>-1.042853</td>\n",
       "      <td>-0.628944</td>\n",
       "      <td>0.100852</td>\n",
       "      <td>0.100842</td>\n",
       "      <td>-0.358568</td>\n",
       "      <td>-0.011909</td>\n",
       "      <td>-0.380070</td>\n",
       "      <td>0.932093</td>\n",
       "      <td>0.049788</td>\n",
       "      <td>2.155782</td>\n",
       "      <td>-0.413077</td>\n",
       "      <td>1.635528</td>\n",
       "      <td>0.040790</td>\n",
       "      <td>0.297823</td>\n",
       "      <td>-0.432193</td>\n",
       "      <td>-0.137370</td>\n",
       "      <td>-0.974557</td>\n",
       "    </tr>\n",
       "    <tr>\n",
       "      <th>4</th>\n",
       "      <td>558000.0</td>\n",
       "      <td>-1.042853</td>\n",
       "      <td>-0.628944</td>\n",
       "      <td>0.335499</td>\n",
       "      <td>0.100842</td>\n",
       "      <td>-0.358568</td>\n",
       "      <td>-0.204311</td>\n",
       "      <td>-0.633097</td>\n",
       "      <td>0.932093</td>\n",
       "      <td>0.601144</td>\n",
       "      <td>0.200521</td>\n",
       "      <td>0.136266</td>\n",
       "      <td>0.311391</td>\n",
       "      <td>0.607561</td>\n",
       "      <td>-0.035340</td>\n",
       "      <td>-0.487966</td>\n",
       "      <td>-0.155122</td>\n",
       "      <td>-1.163417</td>\n",
       "    </tr>\n",
       "  </tbody>\n",
       "</table>\n",
       "</div>"
      ],
      "text/plain": [
       "          y        x1        x2        x3        x4        x5        x6  \\\n",
       "0  299188.0  1.447100 -0.142221  0.209442  0.161014 -0.358568 -0.081675   \n",
       "1  456000.0 -0.766191 -0.628944 -0.368441  0.100842 -0.358568 -0.364647   \n",
       "2  222000.0 -0.558695 -0.628944 -0.110330 -0.048326 -0.358568 -0.236379   \n",
       "3  716000.0 -1.042853 -0.628944  0.100852  0.100842 -0.358568 -0.011909   \n",
       "4  558000.0 -1.042853 -0.628944  0.335499  0.100842 -0.358568 -0.204311   \n",
       "\n",
       "         x7        x8        x9       x10       x11       x12       x13  \\\n",
       "0 -0.332446  1.800014  3.085913  3.931607  0.239048  0.440879  1.821032   \n",
       "1 -0.380070  0.932093 -0.513565  0.204022  1.357014 -0.454962 -0.240147   \n",
       "2 -0.520641  1.800014  3.112904  4.075099 -0.081981 -0.269317  1.476334   \n",
       "3 -0.380070  0.932093  0.049788  2.155782 -0.413077  1.635528  0.040790   \n",
       "4 -0.633097  0.932093  0.601144  0.200521  0.136266  0.311391  0.607561   \n",
       "\n",
       "        x14       x15       x16       x17  \n",
       "0  0.036566 -0.132415  0.016888 -1.234511  \n",
       "1  0.011539 -0.487966 -0.157572 -0.992466  \n",
       "2 -0.232143 -0.132415  0.016888 -1.234511  \n",
       "3  0.297823 -0.432193 -0.137370 -0.974557  \n",
       "4 -0.035340 -0.487966 -0.155122 -1.163417  "
      ]
     },
     "execution_count": 14,
     "metadata": {},
     "output_type": "execute_result"
    }
   ],
   "source": [
    "training_data.head()"
   ]
  },
  {
   "cell_type": "code",
   "execution_count": 15,
   "metadata": {},
   "outputs": [
    {
     "data": {
      "text/html": [
       "<div>\n",
       "<style scoped>\n",
       "    .dataframe tbody tr th:only-of-type {\n",
       "        vertical-align: middle;\n",
       "    }\n",
       "\n",
       "    .dataframe tbody tr th {\n",
       "        vertical-align: top;\n",
       "    }\n",
       "\n",
       "    .dataframe thead th {\n",
       "        text-align: right;\n",
       "    }\n",
       "</style>\n",
       "<table border=\"1\" class=\"dataframe\">\n",
       "  <thead>\n",
       "    <tr style=\"text-align: right;\">\n",
       "      <th></th>\n",
       "      <th>y</th>\n",
       "      <th>x1</th>\n",
       "      <th>x2</th>\n",
       "      <th>x3</th>\n",
       "      <th>x4</th>\n",
       "      <th>x5</th>\n",
       "      <th>x6</th>\n",
       "      <th>x7</th>\n",
       "      <th>x8</th>\n",
       "      <th>x9</th>\n",
       "      <th>x10</th>\n",
       "      <th>x11</th>\n",
       "      <th>x12</th>\n",
       "      <th>x13</th>\n",
       "      <th>x14</th>\n",
       "      <th>x15</th>\n",
       "      <th>x16</th>\n",
       "      <th>x17</th>\n",
       "    </tr>\n",
       "  </thead>\n",
       "  <tbody>\n",
       "    <tr>\n",
       "      <th>0</th>\n",
       "      <td>539000.0</td>\n",
       "      <td>-1.042853</td>\n",
       "      <td>-0.628944</td>\n",
       "      <td>0.030458</td>\n",
       "      <td>-0.495828</td>\n",
       "      <td>-0.299622</td>\n",
       "      <td>-0.076043</td>\n",
       "      <td>-0.380070</td>\n",
       "      <td>-1.671673</td>\n",
       "      <td>-0.312275</td>\n",
       "      <td>0.460715</td>\n",
       "      <td>2.689663</td>\n",
       "      <td>-0.762667</td>\n",
       "      <td>0.037863</td>\n",
       "      <td>0.111199</td>\n",
       "      <td>-0.487966</td>\n",
       "      <td>-0.159630</td>\n",
       "      <td>-0.789496</td>\n",
       "    </tr>\n",
       "    <tr>\n",
       "      <th>1</th>\n",
       "      <td>175984.0</td>\n",
       "      <td>1.516266</td>\n",
       "      <td>1.317947</td>\n",
       "      <td>-0.032971</td>\n",
       "      <td>-1.408497</td>\n",
       "      <td>1.291927</td>\n",
       "      <td>0.060250</td>\n",
       "      <td>-0.206589</td>\n",
       "      <td>0.064171</td>\n",
       "      <td>-0.708129</td>\n",
       "      <td>-0.649049</td>\n",
       "      <td>-0.877533</td>\n",
       "      <td>-0.033290</td>\n",
       "      <td>-0.997294</td>\n",
       "      <td>-0.916648</td>\n",
       "      <td>-0.362478</td>\n",
       "      <td>-0.147293</td>\n",
       "      <td>0.693163</td>\n",
       "    </tr>\n",
       "    <tr>\n",
       "      <th>2</th>\n",
       "      <td>359000.0</td>\n",
       "      <td>-0.420365</td>\n",
       "      <td>-0.628944</td>\n",
       "      <td>0.335499</td>\n",
       "      <td>0.071008</td>\n",
       "      <td>-0.358568</td>\n",
       "      <td>-0.140177</td>\n",
       "      <td>-0.042701</td>\n",
       "      <td>1.800014</td>\n",
       "      <td>1.860830</td>\n",
       "      <td>0.088781</td>\n",
       "      <td>0.045723</td>\n",
       "      <td>-0.982755</td>\n",
       "      <td>0.851874</td>\n",
       "      <td>0.526780</td>\n",
       "      <td>0.508971</td>\n",
       "      <td>-0.051543</td>\n",
       "      <td>1.403558</td>\n",
       "    </tr>\n",
       "    <tr>\n",
       "      <th>3</th>\n",
       "      <td>143000.0</td>\n",
       "      <td>-0.005372</td>\n",
       "      <td>1.804669</td>\n",
       "      <td>-0.462300</td>\n",
       "      <td>-0.644995</td>\n",
       "      <td>-0.240676</td>\n",
       "      <td>-0.300513</td>\n",
       "      <td>-0.070815</td>\n",
       "      <td>-0.803751</td>\n",
       "      <td>-0.761913</td>\n",
       "      <td>-0.484944</td>\n",
       "      <td>-0.941352</td>\n",
       "      <td>-1.028632</td>\n",
       "      <td>-1.088937</td>\n",
       "      <td>-1.194266</td>\n",
       "      <td>-0.160301</td>\n",
       "      <td>-0.111124</td>\n",
       "      <td>0.374597</td>\n",
       "    </tr>\n",
       "    <tr>\n",
       "      <th>4</th>\n",
       "      <td>771000.0</td>\n",
       "      <td>-0.212868</td>\n",
       "      <td>-0.628944</td>\n",
       "      <td>-0.251118</td>\n",
       "      <td>-0.048326</td>\n",
       "      <td>-0.358568</td>\n",
       "      <td>-0.204311</td>\n",
       "      <td>0.603924</td>\n",
       "      <td>-0.803751</td>\n",
       "      <td>-0.216709</td>\n",
       "      <td>-0.709773</td>\n",
       "      <td>-0.946298</td>\n",
       "      <td>2.065542</td>\n",
       "      <td>-1.125344</td>\n",
       "      <td>-1.219678</td>\n",
       "      <td>-0.453108</td>\n",
       "      <td>-0.158387</td>\n",
       "      <td>0.228068</td>\n",
       "    </tr>\n",
       "  </tbody>\n",
       "</table>\n",
       "</div>"
      ],
      "text/plain": [
       "          y        x1        x2        x3        x4        x5        x6  \\\n",
       "0  539000.0 -1.042853 -0.628944  0.030458 -0.495828 -0.299622 -0.076043   \n",
       "1  175984.0  1.516266  1.317947 -0.032971 -1.408497  1.291927  0.060250   \n",
       "2  359000.0 -0.420365 -0.628944  0.335499  0.071008 -0.358568 -0.140177   \n",
       "3  143000.0 -0.005372  1.804669 -0.462300 -0.644995 -0.240676 -0.300513   \n",
       "4  771000.0 -0.212868 -0.628944 -0.251118 -0.048326 -0.358568 -0.204311   \n",
       "\n",
       "         x7        x8        x9       x10       x11       x12       x13  \\\n",
       "0 -0.380070 -1.671673 -0.312275  0.460715  2.689663 -0.762667  0.037863   \n",
       "1 -0.206589  0.064171 -0.708129 -0.649049 -0.877533 -0.033290 -0.997294   \n",
       "2 -0.042701  1.800014  1.860830  0.088781  0.045723 -0.982755  0.851874   \n",
       "3 -0.070815 -0.803751 -0.761913 -0.484944 -0.941352 -1.028632 -1.088937   \n",
       "4  0.603924 -0.803751 -0.216709 -0.709773 -0.946298  2.065542 -1.125344   \n",
       "\n",
       "        x14       x15       x16       x17  \n",
       "0  0.111199 -0.487966 -0.159630 -0.789496  \n",
       "1 -0.916648 -0.362478 -0.147293  0.693163  \n",
       "2  0.526780  0.508971 -0.051543  1.403558  \n",
       "3 -1.194266 -0.160301 -0.111124  0.374597  \n",
       "4 -1.219678 -0.453108 -0.158387  0.228068  "
      ]
     },
     "execution_count": 15,
     "metadata": {},
     "output_type": "execute_result"
    }
   ],
   "source": [
    "test_data.head()"
   ]
  },
  {
   "cell_type": "code",
   "execution_count": 16,
   "metadata": {},
   "outputs": [],
   "source": [
    "import warnings\n",
    "warnings.filterwarnings('ignore')"
   ]
  },
  {
   "cell_type": "code",
   "execution_count": 17,
   "metadata": {},
   "outputs": [],
   "source": [
    "#Find the Alpha and report best test performance for Ridge/Lasso.\n",
    "def Regularization_fit_alpha(model,X_train,y_train,X_test,y_test,alphas,Graph=False, logl=False):\n",
    "    #model = 1-Ridge, 2-Lasso\n",
    "    #aplhas: a list of aplha values to try\n",
    "    #Graph: plot the graph of R^2 values for different alpha\n",
    "\n",
    "    R_2_OS=[] #out of sample R2's\n",
    "    \n",
    "    #initialize the model to use for each given alpha\n",
    "    if model==1:\n",
    "        RM = lambda a: linear_model.Ridge(fit_intercept=True, alpha=a)\n",
    "        model_label='Ridge'\n",
    "    else:\n",
    "        RM = lambda a: linear_model.Lasso(fit_intercept=True, alpha=a)\n",
    "        model_label='Lasso'\n",
    "    \n",
    "    best_R2 = -1\n",
    "    best_alpha = alphas[0]\n",
    "    best_coefs = []\n",
    "    \n",
    "    for a in alphas: #for all alphas to try\n",
    "        lm = RM(a) #assign the model\n",
    "        lm.fit(X_train,y_train)  #fit the regularization model\n",
    "        y_predict=lm.predict(X_test) #compute the prediction for the test sample \n",
    "        R_2_OS_=r2_score(y_test,y_predict)\n",
    "        R_2_OS.append(R_2_OS_)\n",
    "        if R_2_OS_ > best_R2: #if current OS R2 is the best - update the best solution\n",
    "            best_R2 = R_2_OS_\n",
    "            best_alpha = a\n",
    "            best_coefs = lm.coef_\n",
    "    \n",
    "    if Graph==True: #visualization of the performance depending on alpha\n",
    "        plt.title('OS-R-squared for different Alpha')\n",
    "        if logl: #log-scale\n",
    "            plt.xlabel('ln(Alpha)')\n",
    "            l=np.log(alphas)\n",
    "            bl=np.log(best_alpha)\n",
    "        else:\n",
    "            plt.xlabel('Alpha')\n",
    "            l=alphas\n",
    "            bl=best_alpha\n",
    "        plt.ylim((-0.1,1))\n",
    "        plt.plot(l,R_2_OS,'b',label=model_label)\n",
    "        plt.legend(loc='upper right')\n",
    "        plt.ylabel('R-squared')\n",
    "        plt.axvline(bl,color='r',linestyle='--')\n",
    "\n",
    "        plt.show()\n",
    "    \n",
    "    return [best_alpha,best_R2,best_coefs]"
   ]
  },
  {
   "cell_type": "code",
   "execution_count": 18,
   "metadata": {},
   "outputs": [
    {
     "data": {
      "image/png": "[encoded data removed]",
      "text/plain": [
       "<Figure size 432x288 with 1 Axes>"
      ]
     },
     "metadata": {
      "needs_background": "light"
     },
     "output_type": "display_data"
    },
    {
     "name": "stdout",
     "output_type": "stream",
     "text": [
      "Optimal alpha for Ridge=4.5399929762484854e-05, best OS R_2=0.0740553462612058\n"
     ]
    }
   ],
   "source": [
    "alphas = np.exp(np.linspace(-10,20,100)) #exponential range of possible alphas\n",
    "[alpha_optimalRidge, best_R2, best_coefs]=Regularization_fit_alpha(1,training_data[Regressors],training_data.y,test_data[Regressors],test_data.y,alphas,Graph=True,logl=True)\n",
    "print('Optimal alpha for Ridge={0}, best OS R_2={1}'.format(alpha_optimalRidge,best_R2))"
   ]
  },
  {
   "cell_type": "code",
   "execution_count": 19,
   "metadata": {},
   "outputs": [
    {
     "name": "stdout",
     "output_type": "stream",
     "text": [
      "The IS R-squared of Ridge is: 0.07155226233539436\n",
      "The test R-squared of Ridge is: 0.0740553462612058\n"
     ]
    }
   ],
   "source": [
    "#try Ridge with an arbitrary regularization parameter alpha=1\n",
    "Ridge=linear_model.Ridge(fit_intercept=True, alpha=alpha_optimalRidge)\n",
    "Ridge.fit(training_data[Regressors],training_data.y)\n",
    "# In sample:\n",
    "YPred_IS=Ridge.predict(training_data[Regressors])\n",
    "print(\"The IS R-squared of Ridge is: {0}\".format(r2_score(training_data.y,YPred_IS)))\n",
    "#Out of sample\n",
    "YPred_OS=Ridge.predict(test_data[Regressors])\n",
    "print(\"The test R-squared of Ridge is: {0}\".format(r2_score(test_data.y,YPred_OS)))\n",
    "#Lasso.coef_"
   ]
  },
  {
   "cell_type": "code",
   "execution_count": 20,
   "metadata": {},
   "outputs": [
    {
     "data": {
      "text/plain": [
       "array([-145669.5647508 ,   27987.572586  ,  305208.54273938,\n",
       "        375059.43006826,    1814.8611261 ,  276766.9894591 ,\n",
       "        156272.10297201,    4165.95550147,    -709.36307399,\n",
       "       -138063.91384674,    3567.37366471, -100564.46726121,\n",
       "        -26428.9508884 ,  -23459.55702057,   -1103.67192975,\n",
       "         23636.2794792 ,  -21230.62953515])"
      ]
     },
     "execution_count": 20,
     "metadata": {},
     "output_type": "execute_result"
    }
   ],
   "source": [
    "Ridge.coef_"
   ]
  },
  {
   "cell_type": "code",
   "execution_count": 21,
   "metadata": {},
   "outputs": [
    {
     "data": {
      "text/plain": [
       "(17,)"
      ]
     },
     "execution_count": 21,
     "metadata": {},
     "output_type": "execute_result"
    }
   ],
   "source": [
    "Ridge.coef_.shape"
   ]
  },
  {
   "cell_type": "code",
   "execution_count": 22,
   "metadata": {},
   "outputs": [
    {
     "data": {
      "image/png": "[encoded data removed]",
      "text/plain": [
       "<Figure size 432x288 with 1 Axes>"
      ]
     },
     "metadata": {
      "needs_background": "light"
     },
     "output_type": "display_data"
    },
    {
     "name": "stdout",
     "output_type": "stream",
     "text": [
      "Optimal alpha for Lasso=4.5399929762484854e-05, best OS R_2=0.07405534625969257\n"
     ]
    }
   ],
   "source": [
    "alphas = np.exp(np.linspace(-10,20,100)) #exponential range of possible alphas\n",
    "[alpha_optimal, best_R2, best_coefs]=Regularization_fit_alpha(2,training_data[Regressors],training_data.y,test_data[Regressors],test_data.y,alphas,Graph=True,logl=True)\n",
    "print('Optimal alpha for Lasso={0}, best OS R_2={1}'.format(alpha_optimal,best_R2))"
   ]
  },
  {
   "cell_type": "code",
   "execution_count": 23,
   "metadata": {},
   "outputs": [
    {
     "name": "stdout",
     "output_type": "stream",
     "text": [
      "The IS R-squared of Lasso is: 0.07155226233539524\n",
      "The OS R-squared of Lasso is: 0.07405534625969257\n"
     ]
    },
    {
     "data": {
      "text/plain": [
       "array([-145669.56457612,   27987.57248057,  305208.54272345,\n",
       "        375059.4300332 ,    1814.86106548,  276766.9894431 ,\n",
       "        156272.10295215,    4165.95541245,    -709.36302363,\n",
       "       -138063.91371913,    3567.37351731, -100564.46722508,\n",
       "        -26428.95078802,  -23459.55698733,   -1103.67185091,\n",
       "         23636.27942417,  -21230.62949368])"
      ]
     },
     "execution_count": 23,
     "metadata": {},
     "output_type": "execute_result"
    }
   ],
   "source": [
    "Lasso=linear_model.Lasso(fit_intercept=True, alpha=alpha_optimal)\n",
    "\n",
    "Lasso.fit(training_data[Regressors],training_data.y)\n",
    "# In sample:\n",
    "YPred_IS=Lasso.predict(training_data[Regressors])\n",
    "print(\"The IS R-squared of Lasso is: {0}\".format(r2_score(training_data.y,YPred_IS)))\n",
    "#Out of sample\n",
    "YPred_OS=Lasso.predict(test_data[Regressors])\n",
    "print(\"The OS R-squared of Lasso is: {0}\".format(r2_score(test_data.y,YPred_OS)))\n",
    "Lasso.coef_"
   ]
  },
  {
   "cell_type": "code",
   "execution_count": null,
   "metadata": {},
   "outputs": [],
   "source": [
    "fig, ax = plt.subplots() #get axis to plot on\n",
    "#ax.set_xscale('log'); ax.set_yscale('log') #set up log-scale for axis\n",
    "#REStaten_.plot(x='LAND_SQUARE_FEET',y='SALE_PRICE',kind='scatter', logx=True, logy=True)\n",
    "test_data.plot(ax=ax,kind='scatter',x='predictions',y='y', title = 'Test Data Prediction Fit') #show the data\n",
    "ax.plot(test_data.predictions,test_data.predictions,'r-'); #show the regression line\n",
    "plt.show()"
   ]
  },
  {
   "cell_type": "code",
   "execution_count": null,
   "metadata": {},
   "outputs": [],
   "source": []
  },
  {
   "cell_type": "code",
   "execution_count": null,
   "metadata": {},
   "outputs": [],
   "source": [
    "# regression_equation = 'y~ {} x1+'.format(lm12.params)+'+'.join(['x%d'%p for p in range(1,18)])\n",
    "# regression_equation"
   ]
  },
  {
   "cell_type": "code",
   "execution_count": null,
   "metadata": {},
   "outputs": [],
   "source": [
    "#trial = df_concat[['FULLVAL', 'nearest_subway_entrance', 'nearest_park', 'normalized_arrest_cnt']].copy()"
   ]
  },
  {
   "cell_type": "code",
   "execution_count": null,
   "metadata": {},
   "outputs": [],
   "source": [
    "dataset = pd.read_feather('C:\\\\Users\\\\aniha\\\\OneDrive - nyu.edu\\\\final_reg_data.feather')#, dtype={'BIN': 'float64', 'EXMPTCL': 'object', 'EXT': 'object', 'BBLE': 'object',\n",
    "#        'EASEMENT': 'object',\n",
    "#        'POSTCODE': 'float64'})\n",
    "\n",
    "# dataset = pd."
   ]
  },
  {
   "cell_type": "code",
   "execution_count": null,
   "metadata": {},
   "outputs": [],
   "source": [
    "dataset.head()"
   ]
  },
  {
   "cell_type": "code",
   "execution_count": null,
   "metadata": {},
   "outputs": [],
   "source": [
    "dataset.shape"
   ]
  },
  {
   "cell_type": "code",
   "execution_count": null,
   "metadata": {},
   "outputs": [],
   "source": [
    "dataset.columns"
   ]
  },
  {
   "cell_type": "code",
   "execution_count": null,
   "metadata": {},
   "outputs": [],
   "source": [
    "dataset = dataset[dataset.FULLVAL != 0]"
   ]
  },
  {
   "cell_type": "code",
   "execution_count": null,
   "metadata": {},
   "outputs": [],
   "source": [
    "dataset.shape"
   ]
  },
  {
   "cell_type": "code",
   "execution_count": null,
   "metadata": {},
   "outputs": [],
   "source": [
    "dataset = dataset.drop_duplicates()"
   ]
  },
  {
   "cell_type": "code",
   "execution_count": null,
   "metadata": {},
   "outputs": [],
   "source": [
    "dataset.shape"
   ]
  },
  {
   "cell_type": "code",
   "execution_count": null,
   "metadata": {},
   "outputs": [],
   "source": [
    "6821660 - 6032650"
   ]
  },
  {
   "cell_type": "code",
   "execution_count": null,
   "metadata": {},
   "outputs": [],
   "source": [
    "edited_dataset = dataset[['FULLVAL', 'nearest_subway_entrance', 'nearest_park', 'normalized_arrest_cnt']].copy()"
   ]
  },
  {
   "cell_type": "code",
   "execution_count": null,
   "metadata": {},
   "outputs": [],
   "source": [
    "edited_dataset.shape"
   ]
  },
  {
   "cell_type": "code",
   "execution_count": null,
   "metadata": {},
   "outputs": [],
   "source": [
    "print (len(edited_dataset.index))"
   ]
  },
  {
   "cell_type": "code",
   "execution_count": null,
   "metadata": {},
   "outputs": [],
   "source": [
    "training, validation, testing = np.split(dataset.sample(frac=1, random_state=324), [int(.8*len(dataset)), int(.9*len(dataset))])"
   ]
  },
  {
   "cell_type": "code",
   "execution_count": null,
   "metadata": {},
   "outputs": [],
   "source": [
    "training.head()"
   ]
  },
  {
   "cell_type": "code",
   "execution_count": null,
   "metadata": {},
   "outputs": [],
   "source": [
    "import gc\n",
    "gc.collect()"
   ]
  },
  {
   "cell_type": "code",
   "execution_count": null,
   "metadata": {},
   "outputs": [],
   "source": [
    "lm = smf.ols(formula='FULLVAL~nearest_subway_entrance+nearest_park+normalized_arrest_cnt', data = training).fit()\n",
    "print(lm.summary())"
   ]
  },
  {
   "cell_type": "code",
   "execution_count": null,
   "metadata": {},
   "outputs": [],
   "source": [
    "import matplotlib.pyplot as plt\n",
    "\n",
    "plt.matshow(training.corr())\n",
    "plt.show()\n",
    "\n",
    "corr = training.corr()"
   ]
  },
  {
   "cell_type": "code",
   "execution_count": null,
   "metadata": {},
   "outputs": [],
   "source": [
    "print(corr)"
   ]
  },
  {
   "cell_type": "code",
   "execution_count": null,
   "metadata": {},
   "outputs": [],
   "source": [
    "training = training.fillna(0)\n",
    "validation = validation.fillna(0)\n",
    "testing = testing.fillna(0)"
   ]
  },
  {
   "cell_type": "code",
   "execution_count": null,
   "metadata": {},
   "outputs": [],
   "source": [
    "lm = smf.ols(formula='FULLVAL~nearest_subway_entrance+nearest_park+normalized_arrest_cnt', data = training).fit()\n",
    "print(lm.summary())"
   ]
  },
  {
   "cell_type": "code",
   "execution_count": null,
   "metadata": {},
   "outputs": [],
   "source": [
    "training['prediction'] = lm.predict()\n",
    "training.head()"
   ]
  },
  {
   "cell_type": "code",
   "execution_count": null,
   "metadata": {},
   "outputs": [],
   "source": [
    "fig, ax = plt.subplots() #get axis to plot on\n",
    "ax.set_xscale('log'); ax.set_yscale('log') #set up log-scale for axis\n",
    "training.plot(ax=ax,kind='scatter',x='prediction',y='FULLVAL') #show the data\n",
    "ax.plot(training.prediction,training.prediction,'r-'); #show the regression line"
   ]
  },
  {
   "cell_type": "code",
   "execution_count": null,
   "metadata": {},
   "outputs": [],
   "source": [
    "correlation_table = training[['STORIES','nearest_grocery','nearest_subway_entrance','nearest_basketball_court','nearest_daycare_facility', 'nearest_athletic_facility', 'nearest_park', 'total_arrests', 'normalized_arrest_cnt', 'FULLVAL']].corr()"
   ]
  },
  {
   "cell_type": "code",
   "execution_count": null,
   "metadata": {},
   "outputs": [],
   "source": [
    "correlation_table.sort_values(by = 'FULLVAL', ascending = 0)"
   ]
  },
  {
   "cell_type": "code",
   "execution_count": null,
   "metadata": {},
   "outputs": [],
   "source": []
  }
 ],
 "metadata": {
  "kernelspec": {
   "display_name": "Python 3",
   "language": "python",
   "name": "python3"
  },
  "language_info": {
   "codemirror_mode": {
    "name": "ipython",
    "version": 3
   },
   "file_extension": ".py",
   "mimetype": "text/x-python",
   "name": "python",
   "nbconvert_exporter": "python",
   "pygments_lexer": "ipython3",
   "version": "3.7.3"
  }
 },
 "nbformat": 4,
 "nbformat_minor": 2
}
